{
 "metadata": {
  "language_info": {
   "codemirror_mode": {
    "name": "ipython",
    "version": 3
   },
   "file_extension": ".py",
   "mimetype": "text/x-python",
   "name": "python",
   "nbconvert_exporter": "python",
   "pygments_lexer": "ipython3",
   "version": "3.9.5"
  },
  "orig_nbformat": 2,
  "kernelspec": {
   "name": "python395jvsc74a57bd0df2517d12cbacb86b38afffdc1f50cbbc41755439694c5330a7a1b4f6f24e217",
   "display_name": "Python 3.9.5 64-bit"
  }
 },
 "nbformat": 4,
 "nbformat_minor": 2,
 "cells": [
  {
   "cell_type": "code",
   "execution_count": 5,
   "metadata": {},
   "outputs": [],
   "source": [
    "import pandas as pd"
   ]
  },
  {
   "cell_type": "code",
   "execution_count": 9,
   "metadata": {},
   "outputs": [
    {
     "output_type": "execute_result",
     "data": {
      "text/plain": [
       "            date  player_id      gamePk  over_acc  under_acc  over_precision  \\\n",
       "0     2021-03-20    8481535  2020020489     0.676      0.676           0.200   \n",
       "1     2021-05-06    8481535  2020020593     0.640      0.640           0.000   \n",
       "2     2021-04-18    8481535  2020020697     0.675      0.675           0.400   \n",
       "3     2021-04-20    8481535  2020020710     0.661      0.661           0.661   \n",
       "4     2021-04-22    8481535  2020020737     0.593      0.593           0.651   \n",
       "...          ...        ...         ...       ...        ...             ...   \n",
       "4797  2021-04-29    8480821  2020020786     0.596      0.596           0.591   \n",
       "4798  2021-05-02    8480821  2020020811     0.662      0.662           0.000   \n",
       "4799  2021-05-02    8480821  2020020811     0.621      0.621           0.613   \n",
       "4800  2021-05-07    8480821  2020020845     0.653      0.653           0.000   \n",
       "4801  2021-05-07    8480821  2020020845     0.613      0.613           0.608   \n",
       "\n",
       "      under_precision  target  pred_over  pred_under  answer  proba_over  \\\n",
       "0               0.671     2.5          0           0       0       0.246   \n",
       "1               0.640     2.5          0           0       1       0.403   \n",
       "2               0.658     2.5          0           0       1       0.275   \n",
       "3               0.000     1.5          1           1       1       0.592   \n",
       "4               0.040     1.5          1           1       0       0.696   \n",
       "...               ...     ...        ...         ...     ...         ...   \n",
       "4797            0.200     1.5          1           1       0       0.309   \n",
       "4798            0.662     2.5          0           0       1       0.424   \n",
       "4799            0.333     1.5          1           1       1       0.649   \n",
       "4800            0.653     2.5          0           0       0       0.409   \n",
       "4801            0.300     1.5          1           1       0       0.517   \n",
       "\n",
       "      proba_under  num_shots  odds_over  odds_under  \n",
       "0           0.801          1       2.55        1.45  \n",
       "1           0.575          4       2.30        1.60  \n",
       "2           0.708          3       2.30        1.55  \n",
       "3           0.332          2       1.55        2.30  \n",
       "4           0.203          1       1.57        2.30  \n",
       "...           ...        ...        ...         ...  \n",
       "4797        0.569          0       1.57        2.30  \n",
       "4798        0.500          4       2.30        1.57  \n",
       "4799        0.388          4       1.60        2.20  \n",
       "4800        0.567          1       2.50        1.55  \n",
       "4801        0.635          1       1.55        2.30  \n",
       "\n",
       "[4802 rows x 16 columns]"
      ],
      "text/html": "<div>\n<style scoped>\n    .dataframe tbody tr th:only-of-type {\n        vertical-align: middle;\n    }\n\n    .dataframe tbody tr th {\n        vertical-align: top;\n    }\n\n    .dataframe thead th {\n        text-align: right;\n    }\n</style>\n<table border=\"1\" class=\"dataframe\">\n  <thead>\n    <tr style=\"text-align: right;\">\n      <th></th>\n      <th>date</th>\n      <th>player_id</th>\n      <th>gamePk</th>\n      <th>over_acc</th>\n      <th>under_acc</th>\n      <th>over_precision</th>\n      <th>under_precision</th>\n      <th>target</th>\n      <th>pred_over</th>\n      <th>pred_under</th>\n      <th>answer</th>\n      <th>proba_over</th>\n      <th>proba_under</th>\n      <th>num_shots</th>\n      <th>odds_over</th>\n      <th>odds_under</th>\n    </tr>\n  </thead>\n  <tbody>\n    <tr>\n      <th>0</th>\n      <td>2021-03-20</td>\n      <td>8481535</td>\n      <td>2020020489</td>\n      <td>0.676</td>\n      <td>0.676</td>\n      <td>0.200</td>\n      <td>0.671</td>\n      <td>2.5</td>\n      <td>0</td>\n      <td>0</td>\n      <td>0</td>\n      <td>0.246</td>\n      <td>0.801</td>\n      <td>1</td>\n      <td>2.55</td>\n      <td>1.45</td>\n    </tr>\n    <tr>\n      <th>1</th>\n      <td>2021-05-06</td>\n      <td>8481535</td>\n      <td>2020020593</td>\n      <td>0.640</td>\n      <td>0.640</td>\n      <td>0.000</td>\n      <td>0.640</td>\n      <td>2.5</td>\n      <td>0</td>\n      <td>0</td>\n      <td>1</td>\n      <td>0.403</td>\n      <td>0.575</td>\n      <td>4</td>\n      <td>2.30</td>\n      <td>1.60</td>\n    </tr>\n    <tr>\n      <th>2</th>\n      <td>2021-04-18</td>\n      <td>8481535</td>\n      <td>2020020697</td>\n      <td>0.675</td>\n      <td>0.675</td>\n      <td>0.400</td>\n      <td>0.658</td>\n      <td>2.5</td>\n      <td>0</td>\n      <td>0</td>\n      <td>1</td>\n      <td>0.275</td>\n      <td>0.708</td>\n      <td>3</td>\n      <td>2.30</td>\n      <td>1.55</td>\n    </tr>\n    <tr>\n      <th>3</th>\n      <td>2021-04-20</td>\n      <td>8481535</td>\n      <td>2020020710</td>\n      <td>0.661</td>\n      <td>0.661</td>\n      <td>0.661</td>\n      <td>0.000</td>\n      <td>1.5</td>\n      <td>1</td>\n      <td>1</td>\n      <td>1</td>\n      <td>0.592</td>\n      <td>0.332</td>\n      <td>2</td>\n      <td>1.55</td>\n      <td>2.30</td>\n    </tr>\n    <tr>\n      <th>4</th>\n      <td>2021-04-22</td>\n      <td>8481535</td>\n      <td>2020020737</td>\n      <td>0.593</td>\n      <td>0.593</td>\n      <td>0.651</td>\n      <td>0.040</td>\n      <td>1.5</td>\n      <td>1</td>\n      <td>1</td>\n      <td>0</td>\n      <td>0.696</td>\n      <td>0.203</td>\n      <td>1</td>\n      <td>1.57</td>\n      <td>2.30</td>\n    </tr>\n    <tr>\n      <th>...</th>\n      <td>...</td>\n      <td>...</td>\n      <td>...</td>\n      <td>...</td>\n      <td>...</td>\n      <td>...</td>\n      <td>...</td>\n      <td>...</td>\n      <td>...</td>\n      <td>...</td>\n      <td>...</td>\n      <td>...</td>\n      <td>...</td>\n      <td>...</td>\n      <td>...</td>\n      <td>...</td>\n    </tr>\n    <tr>\n      <th>4797</th>\n      <td>2021-04-29</td>\n      <td>8480821</td>\n      <td>2020020786</td>\n      <td>0.596</td>\n      <td>0.596</td>\n      <td>0.591</td>\n      <td>0.200</td>\n      <td>1.5</td>\n      <td>1</td>\n      <td>1</td>\n      <td>0</td>\n      <td>0.309</td>\n      <td>0.569</td>\n      <td>0</td>\n      <td>1.57</td>\n      <td>2.30</td>\n    </tr>\n    <tr>\n      <th>4798</th>\n      <td>2021-05-02</td>\n      <td>8480821</td>\n      <td>2020020811</td>\n      <td>0.662</td>\n      <td>0.662</td>\n      <td>0.000</td>\n      <td>0.662</td>\n      <td>2.5</td>\n      <td>0</td>\n      <td>0</td>\n      <td>1</td>\n      <td>0.424</td>\n      <td>0.500</td>\n      <td>4</td>\n      <td>2.30</td>\n      <td>1.57</td>\n    </tr>\n    <tr>\n      <th>4799</th>\n      <td>2021-05-02</td>\n      <td>8480821</td>\n      <td>2020020811</td>\n      <td>0.621</td>\n      <td>0.621</td>\n      <td>0.613</td>\n      <td>0.333</td>\n      <td>1.5</td>\n      <td>1</td>\n      <td>1</td>\n      <td>1</td>\n      <td>0.649</td>\n      <td>0.388</td>\n      <td>4</td>\n      <td>1.60</td>\n      <td>2.20</td>\n    </tr>\n    <tr>\n      <th>4800</th>\n      <td>2021-05-07</td>\n      <td>8480821</td>\n      <td>2020020845</td>\n      <td>0.653</td>\n      <td>0.653</td>\n      <td>0.000</td>\n      <td>0.653</td>\n      <td>2.5</td>\n      <td>0</td>\n      <td>0</td>\n      <td>0</td>\n      <td>0.409</td>\n      <td>0.567</td>\n      <td>1</td>\n      <td>2.50</td>\n      <td>1.55</td>\n    </tr>\n    <tr>\n      <th>4801</th>\n      <td>2021-05-07</td>\n      <td>8480821</td>\n      <td>2020020845</td>\n      <td>0.613</td>\n      <td>0.613</td>\n      <td>0.608</td>\n      <td>0.300</td>\n      <td>1.5</td>\n      <td>1</td>\n      <td>1</td>\n      <td>0</td>\n      <td>0.517</td>\n      <td>0.635</td>\n      <td>1</td>\n      <td>1.55</td>\n      <td>2.30</td>\n    </tr>\n  </tbody>\n</table>\n<p>4802 rows × 16 columns</p>\n</div>"
     },
     "metadata": {},
     "execution_count": 9
    }
   ],
   "source": [
    "df = pd.read_csv(\"./SVC.csv\")\n",
    "df"
   ]
  },
  {
   "cell_type": "code",
   "execution_count": 20,
   "metadata": {},
   "outputs": [],
   "source": [
    "df[\"book_pred_over\"] = df[\"odds_over\"] < df[\"odds_under\"]\n",
    "df[\"book_pred_over_was_win\"] = df[\"book_pred_over\"] == df[\"answer\"]\n",
    "df[\"book_pred_under\"] = df[\"odds_over\"] <= df[\"odds_under\"]\n",
    "df[\"book_pred_under_was_win\"] = df[\"book_pred_under\"] == df[\"answer\"]"
   ]
  },
  {
   "cell_type": "code",
   "execution_count": 17,
   "metadata": {},
   "outputs": [
    {
     "output_type": "execute_result",
     "data": {
      "text/plain": [
       "            date  player_id      gamePk  over_acc  under_acc  over_precision  \\\n",
       "0     2021-03-20    8481535  2020020489     0.676      0.676           0.200   \n",
       "1     2021-05-06    8481535  2020020593     0.640      0.640           0.000   \n",
       "2     2021-04-18    8481535  2020020697     0.675      0.675           0.400   \n",
       "3     2021-04-20    8481535  2020020710     0.661      0.661           0.661   \n",
       "4     2021-04-22    8481535  2020020737     0.593      0.593           0.651   \n",
       "...          ...        ...         ...       ...        ...             ...   \n",
       "4797  2021-04-29    8480821  2020020786     0.596      0.596           0.591   \n",
       "4798  2021-05-02    8480821  2020020811     0.662      0.662           0.000   \n",
       "4799  2021-05-02    8480821  2020020811     0.621      0.621           0.613   \n",
       "4800  2021-05-07    8480821  2020020845     0.653      0.653           0.000   \n",
       "4801  2021-05-07    8480821  2020020845     0.613      0.613           0.608   \n",
       "\n",
       "      under_precision  target  pred_over  pred_under  answer  proba_over  \\\n",
       "0               0.671     2.5          0           0       0       0.246   \n",
       "1               0.640     2.5          0           0       1       0.403   \n",
       "2               0.658     2.5          0           0       1       0.275   \n",
       "3               0.000     1.5          1           1       1       0.592   \n",
       "4               0.040     1.5          1           1       0       0.696   \n",
       "...               ...     ...        ...         ...     ...         ...   \n",
       "4797            0.200     1.5          1           1       0       0.309   \n",
       "4798            0.662     2.5          0           0       1       0.424   \n",
       "4799            0.333     1.5          1           1       1       0.649   \n",
       "4800            0.653     2.5          0           0       0       0.409   \n",
       "4801            0.300     1.5          1           1       0       0.517   \n",
       "\n",
       "      proba_under  num_shots  odds_over  odds_under  book_pred_over  \\\n",
       "0           0.801          1       2.55        1.45           False   \n",
       "1           0.575          4       2.30        1.60           False   \n",
       "2           0.708          3       2.30        1.55           False   \n",
       "3           0.332          2       1.55        2.30            True   \n",
       "4           0.203          1       1.57        2.30            True   \n",
       "...           ...        ...        ...         ...             ...   \n",
       "4797        0.569          0       1.57        2.30            True   \n",
       "4798        0.500          4       2.30        1.57           False   \n",
       "4799        0.388          4       1.60        2.20            True   \n",
       "4800        0.567          1       2.50        1.55           False   \n",
       "4801        0.635          1       1.55        2.30            True   \n",
       "\n",
       "      book_pred_over_was_win  book_pred_under  book_pred_under_was_win  \n",
       "0                       True             True                    False  \n",
       "1                      False             True                     True  \n",
       "2                      False             True                     True  \n",
       "3                       True            False                    False  \n",
       "4                      False            False                     True  \n",
       "...                      ...              ...                      ...  \n",
       "4797                   False            False                     True  \n",
       "4798                   False             True                     True  \n",
       "4799                    True            False                    False  \n",
       "4800                    True             True                    False  \n",
       "4801                   False            False                     True  \n",
       "\n",
       "[4802 rows x 20 columns]"
      ],
      "text/html": "<div>\n<style scoped>\n    .dataframe tbody tr th:only-of-type {\n        vertical-align: middle;\n    }\n\n    .dataframe tbody tr th {\n        vertical-align: top;\n    }\n\n    .dataframe thead th {\n        text-align: right;\n    }\n</style>\n<table border=\"1\" class=\"dataframe\">\n  <thead>\n    <tr style=\"text-align: right;\">\n      <th></th>\n      <th>date</th>\n      <th>player_id</th>\n      <th>gamePk</th>\n      <th>over_acc</th>\n      <th>under_acc</th>\n      <th>over_precision</th>\n      <th>under_precision</th>\n      <th>target</th>\n      <th>pred_over</th>\n      <th>pred_under</th>\n      <th>answer</th>\n      <th>proba_over</th>\n      <th>proba_under</th>\n      <th>num_shots</th>\n      <th>odds_over</th>\n      <th>odds_under</th>\n      <th>book_pred_over</th>\n      <th>book_pred_over_was_win</th>\n      <th>book_pred_under</th>\n      <th>book_pred_under_was_win</th>\n    </tr>\n  </thead>\n  <tbody>\n    <tr>\n      <th>0</th>\n      <td>2021-03-20</td>\n      <td>8481535</td>\n      <td>2020020489</td>\n      <td>0.676</td>\n      <td>0.676</td>\n      <td>0.200</td>\n      <td>0.671</td>\n      <td>2.5</td>\n      <td>0</td>\n      <td>0</td>\n      <td>0</td>\n      <td>0.246</td>\n      <td>0.801</td>\n      <td>1</td>\n      <td>2.55</td>\n      <td>1.45</td>\n      <td>False</td>\n      <td>True</td>\n      <td>True</td>\n      <td>False</td>\n    </tr>\n    <tr>\n      <th>1</th>\n      <td>2021-05-06</td>\n      <td>8481535</td>\n      <td>2020020593</td>\n      <td>0.640</td>\n      <td>0.640</td>\n      <td>0.000</td>\n      <td>0.640</td>\n      <td>2.5</td>\n      <td>0</td>\n      <td>0</td>\n      <td>1</td>\n      <td>0.403</td>\n      <td>0.575</td>\n      <td>4</td>\n      <td>2.30</td>\n      <td>1.60</td>\n      <td>False</td>\n      <td>False</td>\n      <td>True</td>\n      <td>True</td>\n    </tr>\n    <tr>\n      <th>2</th>\n      <td>2021-04-18</td>\n      <td>8481535</td>\n      <td>2020020697</td>\n      <td>0.675</td>\n      <td>0.675</td>\n      <td>0.400</td>\n      <td>0.658</td>\n      <td>2.5</td>\n      <td>0</td>\n      <td>0</td>\n      <td>1</td>\n      <td>0.275</td>\n      <td>0.708</td>\n      <td>3</td>\n      <td>2.30</td>\n      <td>1.55</td>\n      <td>False</td>\n      <td>False</td>\n      <td>True</td>\n      <td>True</td>\n    </tr>\n    <tr>\n      <th>3</th>\n      <td>2021-04-20</td>\n      <td>8481535</td>\n      <td>2020020710</td>\n      <td>0.661</td>\n      <td>0.661</td>\n      <td>0.661</td>\n      <td>0.000</td>\n      <td>1.5</td>\n      <td>1</td>\n      <td>1</td>\n      <td>1</td>\n      <td>0.592</td>\n      <td>0.332</td>\n      <td>2</td>\n      <td>1.55</td>\n      <td>2.30</td>\n      <td>True</td>\n      <td>True</td>\n      <td>False</td>\n      <td>False</td>\n    </tr>\n    <tr>\n      <th>4</th>\n      <td>2021-04-22</td>\n      <td>8481535</td>\n      <td>2020020737</td>\n      <td>0.593</td>\n      <td>0.593</td>\n      <td>0.651</td>\n      <td>0.040</td>\n      <td>1.5</td>\n      <td>1</td>\n      <td>1</td>\n      <td>0</td>\n      <td>0.696</td>\n      <td>0.203</td>\n      <td>1</td>\n      <td>1.57</td>\n      <td>2.30</td>\n      <td>True</td>\n      <td>False</td>\n      <td>False</td>\n      <td>True</td>\n    </tr>\n    <tr>\n      <th>...</th>\n      <td>...</td>\n      <td>...</td>\n      <td>...</td>\n      <td>...</td>\n      <td>...</td>\n      <td>...</td>\n      <td>...</td>\n      <td>...</td>\n      <td>...</td>\n      <td>...</td>\n      <td>...</td>\n      <td>...</td>\n      <td>...</td>\n      <td>...</td>\n      <td>...</td>\n      <td>...</td>\n      <td>...</td>\n      <td>...</td>\n      <td>...</td>\n      <td>...</td>\n    </tr>\n    <tr>\n      <th>4797</th>\n      <td>2021-04-29</td>\n      <td>8480821</td>\n      <td>2020020786</td>\n      <td>0.596</td>\n      <td>0.596</td>\n      <td>0.591</td>\n      <td>0.200</td>\n      <td>1.5</td>\n      <td>1</td>\n      <td>1</td>\n      <td>0</td>\n      <td>0.309</td>\n      <td>0.569</td>\n      <td>0</td>\n      <td>1.57</td>\n      <td>2.30</td>\n      <td>True</td>\n      <td>False</td>\n      <td>False</td>\n      <td>True</td>\n    </tr>\n    <tr>\n      <th>4798</th>\n      <td>2021-05-02</td>\n      <td>8480821</td>\n      <td>2020020811</td>\n      <td>0.662</td>\n      <td>0.662</td>\n      <td>0.000</td>\n      <td>0.662</td>\n      <td>2.5</td>\n      <td>0</td>\n      <td>0</td>\n      <td>1</td>\n      <td>0.424</td>\n      <td>0.500</td>\n      <td>4</td>\n      <td>2.30</td>\n      <td>1.57</td>\n      <td>False</td>\n      <td>False</td>\n      <td>True</td>\n      <td>True</td>\n    </tr>\n    <tr>\n      <th>4799</th>\n      <td>2021-05-02</td>\n      <td>8480821</td>\n      <td>2020020811</td>\n      <td>0.621</td>\n      <td>0.621</td>\n      <td>0.613</td>\n      <td>0.333</td>\n      <td>1.5</td>\n      <td>1</td>\n      <td>1</td>\n      <td>1</td>\n      <td>0.649</td>\n      <td>0.388</td>\n      <td>4</td>\n      <td>1.60</td>\n      <td>2.20</td>\n      <td>True</td>\n      <td>True</td>\n      <td>False</td>\n      <td>False</td>\n    </tr>\n    <tr>\n      <th>4800</th>\n      <td>2021-05-07</td>\n      <td>8480821</td>\n      <td>2020020845</td>\n      <td>0.653</td>\n      <td>0.653</td>\n      <td>0.000</td>\n      <td>0.653</td>\n      <td>2.5</td>\n      <td>0</td>\n      <td>0</td>\n      <td>0</td>\n      <td>0.409</td>\n      <td>0.567</td>\n      <td>1</td>\n      <td>2.50</td>\n      <td>1.55</td>\n      <td>False</td>\n      <td>True</td>\n      <td>True</td>\n      <td>False</td>\n    </tr>\n    <tr>\n      <th>4801</th>\n      <td>2021-05-07</td>\n      <td>8480821</td>\n      <td>2020020845</td>\n      <td>0.613</td>\n      <td>0.613</td>\n      <td>0.608</td>\n      <td>0.300</td>\n      <td>1.5</td>\n      <td>1</td>\n      <td>1</td>\n      <td>0</td>\n      <td>0.517</td>\n      <td>0.635</td>\n      <td>1</td>\n      <td>1.55</td>\n      <td>2.30</td>\n      <td>True</td>\n      <td>False</td>\n      <td>False</td>\n      <td>True</td>\n    </tr>\n  </tbody>\n</table>\n<p>4802 rows × 20 columns</p>\n</div>"
     },
     "metadata": {},
     "execution_count": 17
    }
   ],
   "source": [
    "df"
   ]
  },
  {
   "cell_type": "code",
   "execution_count": 21,
   "metadata": {},
   "outputs": [
    {
     "output_type": "execute_result",
     "data": {
      "text/plain": [
       "True     0.579342\n",
       "False    0.420658\n",
       "Name: book_pred_over_was_win, dtype: float64"
      ]
     },
     "metadata": {},
     "execution_count": 21
    }
   ],
   "source": [
    "df.book_pred_over_was_win.value_counts() / 4802"
   ]
  },
  {
   "cell_type": "code",
   "execution_count": 22,
   "metadata": {},
   "outputs": [
    {
     "output_type": "execute_result",
     "data": {
      "text/plain": [
       "True     0.578301\n",
       "False    0.421699\n",
       "Name: book_pred_under_was_win, dtype: float64"
      ]
     },
     "metadata": {},
     "execution_count": 22
    }
   ],
   "source": [
    "df.book_pred_under_was_win.value_counts() / 4802"
   ]
  },
  {
   "cell_type": "code",
   "execution_count": null,
   "metadata": {},
   "outputs": [],
   "source": []
  }
 ]
}