{
 "metadata": {
  "language_info": {
   "codemirror_mode": {
    "name": "ipython",
    "version": 3
   },
   "file_extension": ".py",
   "mimetype": "text/x-python",
   "name": "python",
   "nbconvert_exporter": "python",
   "pygments_lexer": "ipython3",
   "version": "3.9.5"
  },
  "orig_nbformat": 2,
  "kernelspec": {
   "name": "python3",
   "display_name": "Python 3.9.5 64-bit"
  },
  "interpreter": {
   "hash": "df2517d12cbacb86b38afffdc1f50cbbc41755439694c5330a7a1b4f6f24e217"
  },
  "metadata": {
   "interpreter": {
    "hash": "ce1e901da04acbe50dd99cd0d91cb411cb2166c3507dec81ce620981a8df4741"
   }
  }
 },
 "nbformat": 4,
 "nbformat_minor": 2,
 "cells": [
  {
   "cell_type": "code",
   "execution_count": 3,
   "metadata": {},
   "outputs": [],
   "source": [
    "import pandas as pd\n",
    "import imp\n",
    "import pprint\n",
    "import matplotlib.pyplot as plt\n",
    "import numpy as np\n",
    "from matplotlib.font_manager import FontProperties\n",
    "from tqdm.notebook import tqdm\n",
    "%matplotlib qt\n",
    "fontP = FontProperties()\n",
    "fontP.set_size('xx-small')"
   ]
  },
  {
   "cell_type": "code",
   "execution_count": 25,
   "metadata": {
    "tags": []
   },
   "outputs": [
    {
     "output_type": "stream",
     "name": "stdout",
     "text": [
      "Csv: \"my_g.csv\" and Pre: 0.1\nEnding 2021-04-27 with 103.57% of starting capital\nEnding 2021-04-28 with 106.56% of starting capital\nEnding 2021-04-29 with 103.45% of starting capital\nEnding 2021-05-02 with 102.07% of starting capital\nEnding 2021-05-03 with 108.56% of starting capital\nEnding 2021-05-04 with 119.91% of starting capital\nEnding 2021-05-05 with 122.61% of starting capital\nEnding 2021-05-06 with 134.15% of starting capital\nEnding 2021-05-07 with 146.58% of starting capital\nEnding 2021-05-09 with 143.89% of starting capital\nEnding 2021-05-12 with 137.65% of starting capital\nEnding 2021-05-17 with 135.19% of starting capital\nEnding 2021-05-18 with 146.95% of starting capital\nEnding 2021-05-19 with 127.04% of starting capital\nEnding 2021-05-20 with 122.36% of starting capital\nEnding 2021-05-21 with 128.28% of starting capital\nEnding 2021-05-22 with 127.55% of starting capital\nEnding 2021-05-23 with 117.56% of starting capital\nEnding 2021-05-24 with 104.04% of starting capital\nbetted 442/2602 = 16.987% games\nwith a winrate of 52.489%\n\nCsv: \"my_o.csv\" and Pre: 0.1\nEnding 2021-04-27 with 99.19% of starting capital\nEnding 2021-04-28 with 112.06% of starting capital\nEnding 2021-04-29 with 110.29% of starting capital\nEnding 2021-05-02 with 110.74% of starting capital\nEnding 2021-05-03 with 108.83% of starting capital\nEnding 2021-05-04 with 124.68% of starting capital\nEnding 2021-05-05 with 122.45% of starting capital\nEnding 2021-05-06 with 133.08% of starting capital\nEnding 2021-05-07 with 132.87% of starting capital\nEnding 2021-05-09 with 139.94% of starting capital\nEnding 2021-05-12 with 144.88% of starting capital\nEnding 2021-05-17 with 141.96% of starting capital\nEnding 2021-05-18 with 142.05% of starting capital\nEnding 2021-05-19 with 140.11% of starting capital\nEnding 2021-05-20 with 134.8% of starting capital\nEnding 2021-05-21 with 153.44% of starting capital\nEnding 2021-05-22 with 154.29% of starting capital\nEnding 2021-05-23 with 162.84% of starting capital\nEnding 2021-05-24 with 144.8% of starting capital\nbetted 439/2602 = 16.872% games\nwith a winrate of 54.67%\n\n"
     ]
    }
   ],
   "source": [
    "import eval\n",
    "imp.reload(eval)\n",
    "\n",
    "\n",
    "\n",
    "settings = {\n",
    "        'type': \"nhl_SOG\",\n",
    "        'csvs': [\"my_g\", \"my_o\"],\n",
    "        'sep': ';',\n",
    "        'bet_on': ['under', 'over'],\n",
    "        'kelly_risk': 0.1,\n",
    "        'start': 1,\n",
    "        'verb': True,\n",
    "        'kelly_up_lim': 0.4,\n",
    "        'kelly_low_lim': 0.0,\n",
    "        'proba_up_lim': 0.7,\n",
    "        'proba_low_lim': 0.5,\n",
    "        'rev_data': False\n",
    "}\n",
    "e = eval.daily(settings)\n",
    "ret = e.eval()\n",
    "\n",
    "for key, value in ret.items():\n",
    "        csv = value['settings']['csvs'][0]\n",
    "        kelly_risk = value['settings']['kelly_risk']\n",
    "\n",
    "        # Plot\n",
    "        fig = plt.figure()\n",
    "        plt.title(f'ROI for \\\"{csv}.csv\\\" with risk of: {kelly_risk}')\n",
    "        plt.xlabel('Potential bets (over and under for each player in each game)')\n",
    "        plt.ylabel('ROI (if start = 1 else just return)')\n",
    "        plt.grid()\n",
    "        plots=[]\n",
    "\n",
    "        # Plot each day\n",
    "        plots.append(plt.plot(ret[f'{csv}-{kelly_risk}']['data']['days'], ret[f'{csv}-{kelly_risk}']['data']['days_return'], label = f\"{csv}-days\")[0])\n",
    "\n",
    "        # Plot each bet\n",
    "        x = list(range(0, ret[f'{csv}-{kelly_risk}']['total_bets']))\n",
    "        plots.append(plt.plot(x, ret[f'{csv}-{kelly_risk}']['data']['bets_return'], label = f\"{csv}-bets\")[0])\n",
    "\n",
    "        plt.legend(handles=plots, title='Lines', bbox_to_anchor=(1, 1), loc='upper left', prop=fontP)\n",
    "        plt.show()"
   ]
  },
  {
   "cell_type": "code",
   "execution_count": 68,
   "metadata": {},
   "outputs": [
    {
     "output_type": "stream",
     "name": "stdout",
     "text": [
      "Csv: \"CL.csv\" and Pre: 0.2\nEnding 4560.0 with 141.32% of starting capital\nEnding 4561.0 with 136.19% of starting capital\nEnding 4562.0 with 130.37% of starting capital\nEnding 4564.0 with 127.43% of starting capital\nEnding 4565.0 with 119.16% of starting capital\nEnding 4566.0 with 200.25% of starting capital\nEnding 4567.0 with 186.27% of starting capital\nEnding 4568.0 with 179.6% of starting capital\nEnding 4569.0 with 195.25% of starting capital\nEnding 4570.0 with 198.04% of starting capital\nEnding 4571.0 with 183.54% of starting capital\nEnding 4572.0 with 159.73% of starting capital\nEnding 4573.0 with 171.61% of starting capital\nEnding 4574.0 with 211.49% of starting capital\nEnding 4575.0 with 187.46% of starting capital\nEnding 4576.0 with 174.45% of starting capital\nEnding 4577.0 with 220.17% of starting capital\nEnding 4579.0 with 197.49% of starting capital\nEnding 4580.0 with 274.34% of starting capital\nEnding 4581.0 with 265.61% of starting capital\nEnding 4582.0 with 227.75% of starting capital\nEnding 4583.0 with 193.57% of starting capital\nEnding 4584.0 with 179.87% of starting capital\nEnding 4585.0 with 146.82% of starting capital\nEnding 4586.0 with 159.16% of starting capital\nEnding 4587.0 with 143.09% of starting capital\nEnding 4588.0 with 125.12% of starting capital\nEnding 4589.0 with 120.31% of starting capital\nEnding 4590.0 with 105.01% of starting capital\nEnding 4591.0 with 99.76% of starting capital\nEnding 4592.0 with 110.6% of starting capital\nEnding 4593.0 with 122.77% of starting capital\nEnding 4594.0 with 124.17% of starting capital\nEnding 4595.0 with 119.67% of starting capital\nEnding 4596.0 with 132.21% of starting capital\nEnding 4597.0 with 120.17% of starting capital\nEnding 4598.0 with 126.53% of starting capital\nEnding 4599.0 with 125.33% of starting capital\nEnding 4600.0 with 126.0% of starting capital\nEnding 4601.0 with 124.1% of starting capital\nEnding 4602.0 with 134.37% of starting capital\nEnding 4603.0 with 121.29% of starting capital\nEnding 4604.0 with 128.23% of starting capital\nEnding 4605.0 with 107.45% of starting capital\nEnding 4606.0 with 345.12% of starting capital\nEnding 4607.0 with 409.66% of starting capital\nEnding 4608.0 with 367.6% of starting capital\nEnding 4609.0 with 356.07% of starting capital\nEnding 4610.0 with 344.52% of starting capital\nEnding 4611.0 with 407.49% of starting capital\nEnding 4612.0 with 438.43% of starting capital\nEnding 4613.0 with 382.49% of starting capital\nEnding 4614.0 with 390.06% of starting capital\nEnding 4615.0 with 344.28% of starting capital\nEnding 4616.0 with 334.55% of starting capital\nEnding 4617.0 with 459.19% of starting capital\nEnding 4618.0 with 653.6% of starting capital\nEnding 4619.0 with 639.81% of starting capital\nEnding 4620.0 with 584.21% of starting capital\nEnding 4621.0 with 539.63% of starting capital\nEnding 4622.0 with 507.12% of starting capital\nEnding 4623.0 with 541.71% of starting capital\nEnding 4624.0 with 581.74% of starting capital\nEnding 4625.0 with 710.73% of starting capital\nEnding 4626.0 with 803.33% of starting capital\nEnding 4627.0 with 664.79% of starting capital\nEnding 4628.0 with 720.98% of starting capital\nEnding 4629.0 with 685.46% of starting capital\nEnding 4630.0 with 741.74% of starting capital\nEnding 4631.0 with 927.78% of starting capital\nEnding 4632.0 with 1213.63% of starting capital\nEnding 4633.0 with 993.6% of starting capital\nEnding 4634.0 with 891.46% of starting capital\nEnding 4635.0 with 804.1% of starting capital\nEnding 4636.0 with 950.67% of starting capital\nEnding 4637.0 with 904.46% of starting capital\nEnding 4638.0 with 776.96% of starting capital\nEnding 4639.0 with 888.22% of starting capital\nEnding 4640.0 with 1055.15% of starting capital\nEnding 4641.0 with 1294.71% of starting capital\nEnding 4642.0 with 1261.65% of starting capital\nEnding 4643.0 with 1296.5% of starting capital\nEnding 4644.0 with 1400.73% of starting capital\nEnding 4645.0 with 1378.9% of starting capital\nEnding 4646.0 with 1322.99% of starting capital\nEnding 4647.0 with 1126.27% of starting capital\nEnding 4648.0 with 1009.07% of starting capital\nEnding 4649.0 with 1342.65% of starting capital\nEnding 4650.0 with 1078.25% of starting capital\nEnding 4651.0 with 1092.71% of starting capital\nEnding 4652.0 with 1257.59% of starting capital\nEnding 4653.0 with 1121.66% of starting capital\nEnding 4654.0 with 1035.95% of starting capital\nEnding 4655.0 with 846.72% of starting capital\nEnding 4656.0 with 819.93% of starting capital\nEnding 4657.0 with 782.65% of starting capital\nEnding 4658.0 with 808.0% of starting capital\nEnding 4659.0 with 755.02% of starting capital\nEnding 4660.0 with 883.76% of starting capital\nEnding 4661.0 with 855.78% of starting capital\nEnding 4662.0 with 813.1% of starting capital\nEnding 4663.0 with 870.35% of starting capital\nEnding 4664.0 with 880.71% of starting capital\nEnding 4665.0 with 1036.26% of starting capital\nEnding 4666.0 with 973.55% of starting capital\nEnding 4667.0 with 870.21% of starting capital\nEnding 4668.0 with 751.27% of starting capital\nEnding 4669.0 with 720.55% of starting capital\nEnding 4670.0 with 690.78% of starting capital\nEnding 4671.0 with 718.5% of starting capital\nEnding 4672.0 with 762.24% of starting capital\nEnding 4673.0 with 806.75% of starting capital\nEnding 4674.0 with 763.02% of starting capital\nEnding 4675.0 with 715.1% of starting capital\nEnding 4676.0 with 850.76% of starting capital\nEnding 4677.0 with 861.89% of starting capital\nEnding 4678.0 with 899.23% of starting capital\nEnding 4679.0 with 1039.78% of starting capital\nEnding 4680.0 with 991.23% of starting capital\nEnding 4681.0 with 963.55% of starting capital\nEnding 4682.0 with 921.2% of starting capital\nEnding 4683.0 with 779.98% of starting capital\nEnding 4684.0 with 766.3% of starting capital\nEnding 4685.0 with 721.19% of starting capital\nEnding 4686.0 with 702.99% of starting capital\nEnding 4687.0 with 724.87% of starting capital\nEnding 4688.0 with 646.34% of starting capital\nEnding 4689.0 with 576.4% of starting capital\nbetted 172/384 = 44.792% games\nwith a winrate of 41.279%\n\n"
     ]
    }
   ],
   "source": [
    "import eval\n",
    "imp.reload(eval)\n",
    "\n",
    "\n",
    "settings = {\n",
    "        'type': \"CL_HomeXAway\",\n",
    "        'csvs': [\"CL\"],\n",
    "        'bet_on': [\"home\", \"draw\", \"away\"],#, \"home_draw\", \"home_away\", \"home_away\"],\n",
    "        'kelly_risk': 0.2,\n",
    "        'start': 1,\n",
    "        'verb': True,\n",
    "        'kelly_up_lim': 1,\n",
    "        'kelly_low_lim': 0,\n",
    "        'proba_up_lim': 1,\n",
    "        'proba_low_lim': 0,\n",
    "        'rev_data': False\n",
    "}\n",
    "e = eval.daily(settings)\n",
    "ret = e.eval()\n",
    "\n",
    "for key, value in ret.items():\n",
    "        csv = value['settings']['csvs'][0]\n",
    "        kelly_risk = value['settings']['kelly_risk']\n",
    "\n",
    "        # Plot\n",
    "        fig = plt.figure()\n",
    "        plt.title(f'ROI for \\\"{csv}.csv\\\" with risk of: {kelly_risk}')\n",
    "        plt.xlabel('Potential bets (over and under for each player in each game)')\n",
    "        plt.ylabel('ROI (if start = 1 else just return)')\n",
    "        plt.grid()\n",
    "        plots=[]\n",
    "\n",
    "        # Plot each day\n",
    "        plots.append(plt.plot(ret[f'{csv}-{kelly_risk}']['data']['days'], ret[f'{csv}-{kelly_risk}']['data']['days_return'], label = f\"{csv}-days\")[0])\n",
    "\n",
    "        # Plot each bet\n",
    "        x = list(range(0, ret[f'{csv}-{kelly_risk}']['total_bets']))\n",
    "        plots.append(plt.plot(x, ret[f'{csv}-{kelly_risk}']['data']['bets_return'], label = f\"{csv}-bets\")[0])\n",
    "\n",
    "        plt.legend(handles=plots, title='Lines', bbox_to_anchor=(1, 1), loc='upper left', prop=fontP)\n",
    "        plt.show()"
   ]
  },
  {
   "cell_type": "code",
   "execution_count": null,
   "metadata": {},
   "outputs": [],
   "source": []
  }
 ]
}