{
 "metadata": {
  "language_info": {
   "codemirror_mode": {
    "name": "ipython",
    "version": 3
   },
   "file_extension": ".py",
   "mimetype": "text/x-python",
   "name": "python",
   "nbconvert_exporter": "python",
   "pygments_lexer": "ipython3",
   "version": "3.9.5"
  },
  "orig_nbformat": 2,
  "kernelspec": {
   "name": "python395jvsc74a57bd0ce1e901da04acbe50dd99cd0d91cb411cb2166c3507dec81ce620981a8df4741",
   "display_name": "Python 3.9.5 64-bit"
  },
  "interpreter": {
   "hash": "df2517d12cbacb86b38afffdc1f50cbbc41755439694c5330a7a1b4f6f24e217"
  },
  "metadata": {
   "interpreter": {
    "hash": "ce1e901da04acbe50dd99cd0d91cb411cb2166c3507dec81ce620981a8df4741"
   }
  }
 },
 "nbformat": 4,
 "nbformat_minor": 2,
 "cells": [
  {
   "cell_type": "code",
   "execution_count": 18,
   "metadata": {},
   "outputs": [],
   "source": [
    "import pandas as pd\n",
    "import imp\n",
    "import pprint\n",
    "import matplotlib.pyplot as plt\n",
    "import numpy as np\n",
    "from matplotlib.font_manager import FontProperties\n",
    "%matplotlib qt\n",
    "fontP = FontProperties()\n",
    "fontP.set_size('xx-small')"
   ]
  },
  {
   "cell_type": "code",
   "execution_count": 64,
   "metadata": {
    "tags": []
   },
   "outputs": [
    {
     "output_type": "stream",
     "name": "stdout",
     "text": [
      "Csv: \"my.csv\" and Pre: 0.1\nEnding 2021-05-24 with 111.72% of starting capital\nEnding 2021-05-24 with 125.36% of starting capital\nEnding 2021-05-24 with 136.88% of starting capital\nEnding 2021-05-24 with 128.72% of starting capital\nEnding 2021-05-24 with 176.18% of starting capital\nEnding 2021-05-24 with 246.36% of starting capital\nEnding 2021-05-24 with 277.56% of starting capital\nEnding 2021-05-24 with 325.59% of starting capital\nEnding 2021-05-24 with 419.18% of starting capital\nEnding 2021-05-24 with 413.95% of starting capital\nEnding 2021-05-24 with 415.17% of starting capital\nEnding 2021-05-24 with 401.0% of starting capital\nEnding 2021-05-24 with 469.4% of starting capital\nEnding 2021-05-24 with 271.58% of starting capital\nEnding 2021-05-24 with 285.1% of starting capital\nEnding 2021-05-24 with 348.68% of starting capital\nEnding 2021-05-24 with 321.32% of starting capital\nEnding 2021-05-24 with 247.53% of starting capital\nEnding 2021-05-24 with 223.86% of starting capital\nbetted 2602/2602 = 100.0% games\nwith a winrate of 50.0%\n\n"
     ]
    }
   ],
   "source": [
    "imp.reload(eval)\n",
    "\n",
    "settings = {\n",
    "        'csvs': [\"my\"],\n",
    "        'bet_on': ['under', 'over'],\n",
    "        'kelly_range': [0.1, 0.2, 0.1],\n",
    "        'start': 1,\n",
    "        'verb': True,\n",
    "        'kelly_up_lim': 10,\n",
    "        'kelly_low_lim': -1,\n",
    "        'pred_up_lim': 1,\n",
    "        'pred_low_lim': 0,\n",
    "}\n",
    "\n",
    "e = eval.daily(settings)\n",
    "ret = e.eval()\n",
    "\n",
    "\n",
    "# Plot\n",
    "fig = plt.figure()\n",
    "plt.title('ROI')\n",
    "plt.xlabel('Potential bets (over and under for each player in each game)')\n",
    "plt.ylabel('ROI (if start = 1 else just return)')\n",
    "plt.grid()\n",
    "plots=[]\n",
    "\n",
    "# Plot each day\n",
    "plots.append(plt.plot(ret['my-0.1']['data']['days'], ret['my-0.1']['data']['days_return'], label = f\"{csv}_days_{pre}\")[0])\n",
    "\n",
    "# Plot each bet\n",
    "x = list(range(0, ret['my-0.1']['total_bets']))\n",
    "plots.append(plt.plot(x, ret['my-0.1']['data']['bets_return'], label = f\"{csv}_bets_{pre}\")[0])\n",
    "\n",
    "plt.legend(handles=plots, title='Lines', bbox_to_anchor=(1, 1), loc='upper left', prop=fontP)\n",
    "plt.show()"
   ]
  },
  {
   "cell_type": "code",
   "execution_count": 55,
   "metadata": {
    "tags": []
   },
   "outputs": [
    {
     "output_type": "stream",
     "name": "stdout",
     "text": [
      "Csv: \"my.csv\" and Pre: 0.1\nEnding 2021-05-24 with 103.64% of starting capital\nEnding 2021-05-24 with 104.56% of starting capital\nEnding 2021-05-24 with 105.48% of starting capital\nEnding 2021-05-24 with 105.02% of starting capital\nEnding 2021-05-24 with 104.14% of starting capital\nEnding 2021-05-24 with 114.4% of starting capital\nEnding 2021-05-24 with 113.41% of starting capital\nEnding 2021-05-24 with 121.78% of starting capital\nEnding 2021-05-24 with 120.55% of starting capital\nEnding 2021-05-24 with 119.29% of starting capital\nEnding 2021-05-24 with 114.76% of starting capital\nEnding 2021-05-24 with 114.76% of starting capital\nEnding 2021-05-24 with 123.08% of starting capital\nEnding 2021-05-24 with 117.18% of starting capital\nEnding 2021-05-24 with 116.2% of starting capital\nEnding 2021-05-24 with 115.67% of starting capital\nEnding 2021-05-24 with 120.87% of starting capital\nEnding 2021-05-24 with 114.98% of starting capital\nEnding 2021-05-24 with 103.68% of starting capital\nbetted 162/1301 = 12.452% games\nwith a winrate of 49.383%\n\n"
     ]
    }
   ],
   "source": [
    "fig = plt.figure()\n",
    "plt.title('ROI')\n",
    "plt.xlabel('Potential bets (over and under for each player in each game)')\n",
    "plt.ylabel('ROI (if start = 1 else just return)')\n",
    "plt.grid()\n",
    "plots=[]\n",
    "\n",
    "# Vars to change\n",
    "start = 1 # 1 to see accual roi\n",
    "pre_pre = 0 # How much risk to take, reasonable values range from 0.25 to 0.01\n",
    "csvs = [\"my\"]#, \"my_o\"]\n",
    "\n",
    "for pre in np.arange(0.1,0.2,0.1):\n",
    "    pre = pre.round(decimals=2)\n",
    "    if pre_pre:\n",
    "        pre=pre_pre\n",
    "    for csv in csvs:\n",
    "        df = pd.read_csv(f\"./{csv}.csv\", sep=\";\")\n",
    "        df['kelly_under'] = ((df['odds_under'] - 1) * df['pred_under'] - df['pred_over']) / (df['odds_under'] - 1)\n",
    "        df['kelly_under'] = ((df['odds_under'] - 1) * df['pred_under'] - (1-df['pred_under'])) / (df['odds_under'] - 1)\n",
    "        df['kelly_over'] = ((df['odds_over'] - 1) * df['pred_over'] - df['pred_under']) / (df['odds_over'] - 1) \n",
    "        df['kelly_over'] = ((df['odds_over'] - 1) * df['pred_over'] - (1-df['pred_over'])) / (df['odds_over'] - 1) \n",
    "\n",
    "        days = {}\n",
    "\n",
    "        for index, row in df.iterrows():\n",
    "            if str(row['date']) not in days:\n",
    "                days[str(row['date'])] = {\n",
    "                        'bets': [{\n",
    "                            \"date\": row['date'],\n",
    "                            \"answer\": row['answer'],\n",
    "                            \"pred_under\": row['pred_under'],\n",
    "                            \"pred_over\": row['pred_over'],\n",
    "                            \"odds_over\": row['odds_over'],\n",
    "                            \"odds_under\": row['odds_under'],\n",
    "                            \"kelly_under\": row['kelly_under'],\n",
    "                            \"kelly_over\": row['kelly_over']\n",
    "                        }]\n",
    "                    }\n",
    "            else:\n",
    "                days[str(row['date'])]['bets'].append(\n",
    "                        {\n",
    "                            \"date\": row['date'],\n",
    "                            \"answer\": row['answer'],\n",
    "                            \"pred_under\": row['pred_under'],\n",
    "                            \"pred_over\": row['pred_over'],\n",
    "                            \"odds_over\": row['odds_over'],\n",
    "                            \"odds_under\": row['odds_under'],\n",
    "                            \"kelly_under\": row['kelly_under'],\n",
    "                            \"kelly_over\": row['kelly_over']\n",
    "                        }\n",
    "                    )\n",
    "\n",
    "        num_day = 0\n",
    "        keys = list(days.keys())\n",
    "\n",
    "        tot_bets=0\n",
    "        tot_bets_betted=0\n",
    "        tot_bets_won=0\n",
    "        plot_days=[0]\n",
    "        plot_rois_day=[1]\n",
    "        plot_rois_bet=[]\n",
    "\n",
    "        # Loop trought days\n",
    "        for day, info in days.items():\n",
    "            if num_day == 0:\n",
    "                info['start'] = start\n",
    "            else:\n",
    "                info['start'] = days[keys[num_day-1]]['end']\n",
    "            if info['start'] > 0:\n",
    "                info['end'] = info['start']\n",
    "\n",
    "                # Loop through games in this day\n",
    "                for bet in info['bets']:\n",
    "                    for o_u in [\"under\"]:\n",
    "                        # Do i want to bet on this? (is kelly saying bet)\n",
    "                        if bet[f\"kelly_{o_u}\"] > 0.1:\n",
    "                            if bet[f\"pred_{o_u}\"] > 0.5:\n",
    "                                # Yes, how much should i bet?\n",
    "                                how_much_to_bet = bet[f\"kelly_{o_u}\"] * pre * info['start']\n",
    "\n",
    "                                # Remove from \"kassa\"\n",
    "                                info['end'] -= how_much_to_bet\n",
    "\n",
    "                                # Did i win? if so add how much i won\n",
    "                                if (bet['answer'] == (o_u == \"over\")):\n",
    "                                    info['end'] += how_much_to_bet * bet[f\"odds_{o_u}\"]\n",
    "                                    tot_bets_won+=1\n",
    "                                tot_bets_betted+=1\n",
    "\n",
    "                        tot_bets += 1\n",
    "                        plot_rois_bet.append(info['end'])\n",
    "\n",
    "                plot_rois_day.append(info['end'])\n",
    "                plot_days.append(plot_days[-1] + len(info['bets']*2))\n",
    "\n",
    "                num_day += 1\n",
    "\n",
    "\n",
    "        print(f\"Csv: \\\"{csv}.csv\\\" and Pre: {pre}\")\n",
    "        for days, info in days.items():\n",
    "            print(f\"Ending {day} with {round(info['end']*100,2)}% of starting capital\")\n",
    "        print(f\"betted {tot_bets_betted}/{tot_bets} = {round((tot_bets_betted / tot_bets)*100, 3)}% games\")\n",
    "        print(f\"with a winrate of {round((tot_bets_won / tot_bets_betted)*100, 3)}%\")\n",
    "        print(\"\")\n",
    "\n",
    "        #plots.append(plt.plot(plot_days, plot_rois_day, label = f\"{csv}_days_{pre}\")[0])\n",
    "        x = list(range(0, tot_bets))\n",
    "        plots.append(plt.plot(x, plot_rois_bet, label = f\"{csv}_bets_{pre}\")[0])\n",
    "    if pre_pre:\n",
    "        break\n",
    "\n",
    "plt.legend(handles=plots, title='Lines', bbox_to_anchor=(1, 1), loc='upper left', prop=fontP)\n",
    "plt.show()"
   ]
  },
  {
   "cell_type": "code",
   "execution_count": null,
   "metadata": {},
   "outputs": [],
   "source": []
  }
 ]
}