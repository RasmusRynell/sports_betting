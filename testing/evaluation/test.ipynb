{
 "metadata": {
  "language_info": {
   "codemirror_mode": {
    "name": "ipython",
    "version": 3
   },
   "file_extension": ".py",
   "mimetype": "text/x-python",
   "name": "python",
   "nbconvert_exporter": "python",
   "pygments_lexer": "ipython3",
   "version": "3.9.5"
  },
  "orig_nbformat": 2,
  "kernelspec": {
   "name": "python395jvsc74a57bd0ce1e901da04acbe50dd99cd0d91cb411cb2166c3507dec81ce620981a8df4741",
   "display_name": "Python 3.9.5 64-bit"
  },
  "interpreter": {
   "hash": "df2517d12cbacb86b38afffdc1f50cbbc41755439694c5330a7a1b4f6f24e217"
  },
  "metadata": {
   "interpreter": {
    "hash": "ce1e901da04acbe50dd99cd0d91cb411cb2166c3507dec81ce620981a8df4741"
   }
  }
 },
 "nbformat": 4,
 "nbformat_minor": 2,
 "cells": [
  {
   "cell_type": "code",
   "execution_count": 62,
   "metadata": {},
   "outputs": [],
   "source": [
    "import pandas as pd\n",
    "import imp\n",
    "import pprint\n",
    "import matplotlib.pyplot as plt\n",
    "import numpy as np\n",
    "from matplotlib.font_manager import FontProperties\n",
    "from tqdm.notebook import tqdm\n",
    "%matplotlib qt\n",
    "fontP = FontProperties()\n",
    "fontP.set_size('xx-small')"
   ]
  },
  {
   "cell_type": "code",
   "execution_count": 115,
   "metadata": {
    "tags": []
   },
   "outputs": [
    {
     "output_type": "stream",
     "name": "stdout",
     "text": [
      "Csv: \"my_g.csv\" and Pre: 0.1\nEnding 2021-04-27 with 103.42% of starting capital\nEnding 2021-04-28 with 110.06% of starting capital\nEnding 2021-04-29 with 105.35% of starting capital\nEnding 2021-05-02 with 104.88% of starting capital\nEnding 2021-05-03 with 106.24% of starting capital\nEnding 2021-05-04 with 116.88% of starting capital\nEnding 2021-05-05 with 119.75% of starting capital\nEnding 2021-05-06 with 129.29% of starting capital\nEnding 2021-05-07 with 141.68% of starting capital\nEnding 2021-05-09 with 140.23% of starting capital\nEnding 2021-05-12 with 134.92% of starting capital\nEnding 2021-05-17 with 134.93% of starting capital\nEnding 2021-05-18 with 146.38% of starting capital\nEnding 2021-05-19 with 131.02% of starting capital\nEnding 2021-05-20 with 127.43% of starting capital\nEnding 2021-05-21 with 135.75% of starting capital\nEnding 2021-05-22 with 135.82% of starting capital\nEnding 2021-05-23 with 129.38% of starting capital\nEnding 2021-05-24 with 114.16% of starting capital\nbetted 210/2602 = 8.071% games\nwith a winrate of 51.429%\n\n"
     ]
    }
   ],
   "source": [
    "import eval\n",
    "imp.reload(eval)\n",
    "\n",
    "\n",
    "settings = {\n",
    "        'type': \"nhl_SOG\",\n",
    "        'csvs': [\"my_g\"],\n",
    "        'sep': ';',\n",
    "        'bet_on': ['under', 'over'],\n",
    "        'kelly_risk': 0.1,\n",
    "        'start': 1,\n",
    "        'verb': True,\n",
    "        'kelly_up_lim': 1,\n",
    "        'kelly_low_lim': 0.1,\n",
    "        'proba_up_lim': 0.7,\n",
    "        'proba_low_lim': 0.5,\n",
    "        'rev_data': False\n",
    "}\n",
    "e = eval.daily(settings)\n",
    "ret = e.eval()\n",
    "\n",
    "\n",
    "for key, value in ret.items():\n",
    "        csv = value['settings']['csvs'][0]\n",
    "        kelly_risk = value['settings']['kelly_risk']\n",
    "\n",
    "        # Plot\n",
    "        fig = plt.figure()\n",
    "        plt.title(f'ROI for \\\"{csv}.csv\\\" with risk of: {kelly_risk}')\n",
    "        plt.xlabel('Potential bets (over and under for each player in each game)')\n",
    "        plt.ylabel('ROI (if start = 1 else just return)')\n",
    "        plt.grid()\n",
    "        plots=[]\n",
    "\n",
    "        # Plot each day\n",
    "        plots.append(plt.plot(ret[f'{csv}-{kelly_risk}']['data']['days'], ret[f'{csv}-{kelly_risk}']['data']['days_return'], label = f\"{csv}-days\")[0])\n",
    "\n",
    "        # Plot each bet\n",
    "        x = list(range(0, ret[f'{csv}-{kelly_risk}']['total_bets']))\n",
    "        plots.append(plt.plot(x, ret[f'{csv}-{kelly_risk}']['data']['bets_return'], label = f\"{csv}-bets\")[0])\n",
    "\n",
    "        plt.legend(handles=plots, title='Lines', bbox_to_anchor=(1, 1), loc='upper left', prop=fontP)\n",
    "        plt.show()"
   ]
  },
  {
   "cell_type": "code",
   "execution_count": 114,
   "metadata": {},
   "outputs": [],
   "source": [
    "import eval\n",
    "imp.reload(eval)\n",
    "\n",
    "\n",
    "settings = {\n",
    "        'type': \"CL_HomeXAway\",\n",
    "        'csvs': [\"CL\"],\n",
    "        'bet_on': [\"home\", \"draw\", \"away\"],#, \"home_draw\", \"home_away\", \"home_away\"],\n",
    "        'kelly_risk': 0.2,\n",
    "        'start': 1,\n",
    "        'verb': False,\n",
    "        'kelly_up_lim': 1,\n",
    "        'kelly_low_lim': 0.1,\n",
    "        'proba_up_lim': 0.7,\n",
    "        'proba_low_lim': 0.5,\n",
    "        'rev_data': False\n",
    "}\n",
    "e = eval.daily(settings)\n",
    "ret = e.eval()\n",
    "\n",
    "for key, value in ret.items():\n",
    "        csv = value['settings']['csvs'][0]\n",
    "        kelly_risk = value['settings']['kelly_risk']\n",
    "\n",
    "        # Plot\n",
    "        fig = plt.figure()\n",
    "        plt.title(f'ROI for \\\"{csv}.csv\\\" with risk of: {kelly_risk}')\n",
    "        plt.xlabel('Potential bets (over and under for each player in each game)')\n",
    "        plt.ylabel('ROI (if start = 1 else just return)')\n",
    "        plt.grid()\n",
    "        plots=[]\n",
    "\n",
    "        # Plot each day\n",
    "        plots.append(plt.plot(ret[f'{csv}-{kelly_risk}']['data']['days'], ret[f'{csv}-{kelly_risk}']['data']['days_return'], label = f\"{csv}-days\")[0])\n",
    "\n",
    "        # Plot each bet\n",
    "        x = list(range(0, ret[f'{csv}-{kelly_risk}']['total_bets']))\n",
    "        plots.append(plt.plot(x, ret[f'{csv}-{kelly_risk}']['data']['bets_return'], label = f\"{csv}-bets\")[0])\n",
    "\n",
    "        plt.legend(handles=plots, title='Lines', bbox_to_anchor=(1, 1), loc='upper left', prop=fontP)\n",
    "        plt.show()"
   ]
  },
  {
   "cell_type": "code",
   "execution_count": 119,
   "metadata": {},
   "outputs": [
    {
     "output_type": "execute_result",
     "data": {
      "text/plain": [
       "      player_id      gamePk        date  odds_under  odds_over  num_shots  \\\n",
       "0       8480002  2020020716  2021-04-27        1.68       2.30          1   \n",
       "1       8480027  2020020774  2021-04-27        1.72       2.10          4   \n",
       "2       8480036  2020020774  2021-04-27        2.20       1.60          2   \n",
       "3       8480036  2020020774  2021-04-27        1.66       2.20          2   \n",
       "4       8480039  2020020774  2021-04-27        2.10       1.70          0   \n",
       "...         ...         ...         ...         ...        ...        ...   \n",
       "1296    8479344  2020030184  2021-05-24        2.65       1.50          2   \n",
       "1297    8479344  2020030184  2021-05-24        1.57       2.50          2   \n",
       "1298    8480018  2020030173  2021-05-24        2.30       1.65          3   \n",
       "1299    8480145  2020030184  2021-05-24        2.35       1.66          1   \n",
       "1300    8480789  2020030115  2021-05-24        1.50       2.50          3   \n",
       "\n",
       "      answer  target  pred  proba_under  ...  kelly_under  kelly_over  \\\n",
       "0          0     2.5     0     0.621029  ...     0.063719   -0.098744   \n",
       "1          1     2.5     1     0.448760  ...    -0.316852    0.143277   \n",
       "2          1     1.5     1     0.433483  ...    -0.038614   -0.155956   \n",
       "3          0     2.5     0     0.589337  ...    -0.032880   -0.080451   \n",
       "4          0     1.5     1     0.399945  ...    -0.145560    0.028706   \n",
       "...      ...     ...   ...          ...  ...          ...         ...   \n",
       "1296       1     1.5     1     0.482165  ...     0.168326   -0.446496   \n",
       "1297       0     2.5     0     0.596178  ...    -0.112282    0.006370   \n",
       "1298       1     1.5     0     0.512388  ...     0.137302   -0.300677   \n",
       "1299       0     1.5     1     0.430456  ...     0.008572   -0.082663   \n",
       "1300       1     2.5     0     0.597165  ...    -0.208506    0.004726   \n",
       "\n",
       "      bet_under  bet_over  result_under  result_over  sum_under  sum_over  \\\n",
       "0         False     False      0.000000     0.000000   0.000000  0.000000   \n",
       "1         False      True      0.000000     0.143277   0.000000  0.143277   \n",
       "2         False     False      0.000000     0.000000   0.000000  0.143277   \n",
       "3         False     False      0.000000     0.000000   0.000000  0.143277   \n",
       "4         False     False      0.000000     0.000000   0.000000  0.143277   \n",
       "...         ...       ...           ...          ...        ...       ...   \n",
       "1296      False     False      0.000000     0.000000  -0.367738  0.627446   \n",
       "1297      False     False      0.000000     0.000000  -0.367738  0.627446   \n",
       "1298       True     False     -0.137302     0.000000  -0.505040  0.627446   \n",
       "1299      False     False      0.000000     0.000000  -0.505040  0.627446   \n",
       "1300      False     False      0.000000     0.000000  -0.505040  0.627446   \n",
       "\n",
       "       tot_sum   tot_dif  \n",
       "0     0.000000  0.000000  \n",
       "1     0.143277  0.143277  \n",
       "2     0.143277  0.143277  \n",
       "3     0.143277  0.143277  \n",
       "4     0.143277  0.143277  \n",
       "...        ...       ...  \n",
       "1296  0.259707  0.995184  \n",
       "1297  0.259707  0.995184  \n",
       "1298  0.122405  1.132486  \n",
       "1299  0.122405  1.132486  \n",
       "1300  0.122405  1.132486  \n",
       "\n",
       "[1301 rows x 21 columns]"
      ],
      "text/html": "<div>\n<style scoped>\n    .dataframe tbody tr th:only-of-type {\n        vertical-align: middle;\n    }\n\n    .dataframe tbody tr th {\n        vertical-align: top;\n    }\n\n    .dataframe thead th {\n        text-align: right;\n    }\n</style>\n<table border=\"1\" class=\"dataframe\">\n  <thead>\n    <tr style=\"text-align: right;\">\n      <th></th>\n      <th>player_id</th>\n      <th>gamePk</th>\n      <th>date</th>\n      <th>odds_under</th>\n      <th>odds_over</th>\n      <th>num_shots</th>\n      <th>answer</th>\n      <th>target</th>\n      <th>pred</th>\n      <th>proba_under</th>\n      <th>...</th>\n      <th>kelly_under</th>\n      <th>kelly_over</th>\n      <th>bet_under</th>\n      <th>bet_over</th>\n      <th>result_under</th>\n      <th>result_over</th>\n      <th>sum_under</th>\n      <th>sum_over</th>\n      <th>tot_sum</th>\n      <th>tot_dif</th>\n    </tr>\n  </thead>\n  <tbody>\n    <tr>\n      <th>0</th>\n      <td>8480002</td>\n      <td>2020020716</td>\n      <td>2021-04-27</td>\n      <td>1.68</td>\n      <td>2.30</td>\n      <td>1</td>\n      <td>0</td>\n      <td>2.5</td>\n      <td>0</td>\n      <td>0.621029</td>\n      <td>...</td>\n      <td>0.063719</td>\n      <td>-0.098744</td>\n      <td>False</td>\n      <td>False</td>\n      <td>0.000000</td>\n      <td>0.000000</td>\n      <td>0.000000</td>\n      <td>0.000000</td>\n      <td>0.000000</td>\n      <td>0.000000</td>\n    </tr>\n    <tr>\n      <th>1</th>\n      <td>8480027</td>\n      <td>2020020774</td>\n      <td>2021-04-27</td>\n      <td>1.72</td>\n      <td>2.10</td>\n      <td>4</td>\n      <td>1</td>\n      <td>2.5</td>\n      <td>1</td>\n      <td>0.448760</td>\n      <td>...</td>\n      <td>-0.316852</td>\n      <td>0.143277</td>\n      <td>False</td>\n      <td>True</td>\n      <td>0.000000</td>\n      <td>0.143277</td>\n      <td>0.000000</td>\n      <td>0.143277</td>\n      <td>0.143277</td>\n      <td>0.143277</td>\n    </tr>\n    <tr>\n      <th>2</th>\n      <td>8480036</td>\n      <td>2020020774</td>\n      <td>2021-04-27</td>\n      <td>2.20</td>\n      <td>1.60</td>\n      <td>2</td>\n      <td>1</td>\n      <td>1.5</td>\n      <td>1</td>\n      <td>0.433483</td>\n      <td>...</td>\n      <td>-0.038614</td>\n      <td>-0.155956</td>\n      <td>False</td>\n      <td>False</td>\n      <td>0.000000</td>\n      <td>0.000000</td>\n      <td>0.000000</td>\n      <td>0.143277</td>\n      <td>0.143277</td>\n      <td>0.143277</td>\n    </tr>\n    <tr>\n      <th>3</th>\n      <td>8480036</td>\n      <td>2020020774</td>\n      <td>2021-04-27</td>\n      <td>1.66</td>\n      <td>2.20</td>\n      <td>2</td>\n      <td>0</td>\n      <td>2.5</td>\n      <td>0</td>\n      <td>0.589337</td>\n      <td>...</td>\n      <td>-0.032880</td>\n      <td>-0.080451</td>\n      <td>False</td>\n      <td>False</td>\n      <td>0.000000</td>\n      <td>0.000000</td>\n      <td>0.000000</td>\n      <td>0.143277</td>\n      <td>0.143277</td>\n      <td>0.143277</td>\n    </tr>\n    <tr>\n      <th>4</th>\n      <td>8480039</td>\n      <td>2020020774</td>\n      <td>2021-04-27</td>\n      <td>2.10</td>\n      <td>1.70</td>\n      <td>0</td>\n      <td>0</td>\n      <td>1.5</td>\n      <td>1</td>\n      <td>0.399945</td>\n      <td>...</td>\n      <td>-0.145560</td>\n      <td>0.028706</td>\n      <td>False</td>\n      <td>False</td>\n      <td>0.000000</td>\n      <td>0.000000</td>\n      <td>0.000000</td>\n      <td>0.143277</td>\n      <td>0.143277</td>\n      <td>0.143277</td>\n    </tr>\n    <tr>\n      <th>...</th>\n      <td>...</td>\n      <td>...</td>\n      <td>...</td>\n      <td>...</td>\n      <td>...</td>\n      <td>...</td>\n      <td>...</td>\n      <td>...</td>\n      <td>...</td>\n      <td>...</td>\n      <td>...</td>\n      <td>...</td>\n      <td>...</td>\n      <td>...</td>\n      <td>...</td>\n      <td>...</td>\n      <td>...</td>\n      <td>...</td>\n      <td>...</td>\n      <td>...</td>\n      <td>...</td>\n    </tr>\n    <tr>\n      <th>1296</th>\n      <td>8479344</td>\n      <td>2020030184</td>\n      <td>2021-05-24</td>\n      <td>2.65</td>\n      <td>1.50</td>\n      <td>2</td>\n      <td>1</td>\n      <td>1.5</td>\n      <td>1</td>\n      <td>0.482165</td>\n      <td>...</td>\n      <td>0.168326</td>\n      <td>-0.446496</td>\n      <td>False</td>\n      <td>False</td>\n      <td>0.000000</td>\n      <td>0.000000</td>\n      <td>-0.367738</td>\n      <td>0.627446</td>\n      <td>0.259707</td>\n      <td>0.995184</td>\n    </tr>\n    <tr>\n      <th>1297</th>\n      <td>8479344</td>\n      <td>2020030184</td>\n      <td>2021-05-24</td>\n      <td>1.57</td>\n      <td>2.50</td>\n      <td>2</td>\n      <td>0</td>\n      <td>2.5</td>\n      <td>0</td>\n      <td>0.596178</td>\n      <td>...</td>\n      <td>-0.112282</td>\n      <td>0.006370</td>\n      <td>False</td>\n      <td>False</td>\n      <td>0.000000</td>\n      <td>0.000000</td>\n      <td>-0.367738</td>\n      <td>0.627446</td>\n      <td>0.259707</td>\n      <td>0.995184</td>\n    </tr>\n    <tr>\n      <th>1298</th>\n      <td>8480018</td>\n      <td>2020030173</td>\n      <td>2021-05-24</td>\n      <td>2.30</td>\n      <td>1.65</td>\n      <td>3</td>\n      <td>1</td>\n      <td>1.5</td>\n      <td>0</td>\n      <td>0.512388</td>\n      <td>...</td>\n      <td>0.137302</td>\n      <td>-0.300677</td>\n      <td>True</td>\n      <td>False</td>\n      <td>-0.137302</td>\n      <td>0.000000</td>\n      <td>-0.505040</td>\n      <td>0.627446</td>\n      <td>0.122405</td>\n      <td>1.132486</td>\n    </tr>\n    <tr>\n      <th>1299</th>\n      <td>8480145</td>\n      <td>2020030184</td>\n      <td>2021-05-24</td>\n      <td>2.35</td>\n      <td>1.66</td>\n      <td>1</td>\n      <td>0</td>\n      <td>1.5</td>\n      <td>1</td>\n      <td>0.430456</td>\n      <td>...</td>\n      <td>0.008572</td>\n      <td>-0.082663</td>\n      <td>False</td>\n      <td>False</td>\n      <td>0.000000</td>\n      <td>0.000000</td>\n      <td>-0.505040</td>\n      <td>0.627446</td>\n      <td>0.122405</td>\n      <td>1.132486</td>\n    </tr>\n    <tr>\n      <th>1300</th>\n      <td>8480789</td>\n      <td>2020030115</td>\n      <td>2021-05-24</td>\n      <td>1.50</td>\n      <td>2.50</td>\n      <td>3</td>\n      <td>1</td>\n      <td>2.5</td>\n      <td>0</td>\n      <td>0.597165</td>\n      <td>...</td>\n      <td>-0.208506</td>\n      <td>0.004726</td>\n      <td>False</td>\n      <td>False</td>\n      <td>0.000000</td>\n      <td>0.000000</td>\n      <td>-0.505040</td>\n      <td>0.627446</td>\n      <td>0.122405</td>\n      <td>1.132486</td>\n    </tr>\n  </tbody>\n</table>\n<p>1301 rows × 21 columns</p>\n</div>"
     },
     "metadata": {},
     "execution_count": 119
    }
   ],
   "source": [
    "df = pd.read_csv(f\"./my_g.csv\", sep=';')\n",
    "df['kelly_under'] = ((df['odds_under'] - 1) * df['proba_under'] - df['proba_over']) / (df['odds_under'] - 1)\n",
    "df['kelly_over'] = ((df['odds_over'] - 1) * df['proba_over'] - df['proba_under']) / (df['odds_over'] - 1)\n",
    "\n",
    "kelly_over_lim = 1\n",
    "kelly_low_lim = 0.1\n",
    "proba_over_lim = 0.7\n",
    "proba_low_lim = 0.5\n",
    "\n",
    "df['bet_under'] = (df['kelly_under'] > kelly_low_lim) & (df['kelly_under'] < kelly_over_lim) \\\n",
    "    & (df['proba_under'] > proba_low_lim) & (df['proba_under'] < proba_over_lim)\n",
    "df['bet_over'] = (df['kelly_over'] > kelly_low_lim) & (df['kelly_under'] < kelly_over_lim) \\\n",
    "    & (df['proba_over'] > proba_low_lim) & (df['proba_over'] < proba_over_lim)\n",
    "\n",
    "df['result_under'] = np.where(df['bet_under'], (np.where(df['answer'] == 0, df['kelly_under'], -df['kelly_under'])), 0)\n",
    "df['result_over'] = np.where(df['bet_over'], (np.where(df['answer'] == 1, df['kelly_over'], -df['kelly_over'])), 0)\n",
    "df['sum_under'] = df.result_under.cumsum()\n",
    "df['sum_over'] = df.result_over.cumsum()\n",
    "df['tot_sum'] = df['sum_under'] + df['sum_over']\n",
    "df['tot_dif'] = df['sum_over'] - df['sum_under']\n",
    "\n",
    "df.plot(x=\"date\", y=[\"sum_under\", \"sum_over\", \"tot_sum\", \"tot_dif\"])\n",
    "plt.grid()\n"
   ]
  },
  {
   "cell_type": "code",
   "execution_count": null,
   "metadata": {},
   "outputs": [],
   "source": []
  }
 ]
}