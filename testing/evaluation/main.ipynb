{
 "metadata": {
  "language_info": {
   "codemirror_mode": {
    "name": "ipython",
    "version": 3
   },
   "file_extension": ".py",
   "mimetype": "text/x-python",
   "name": "python",
   "nbconvert_exporter": "python",
   "pygments_lexer": "ipython3",
   "version": "3.9.5"
  },
  "orig_nbformat": 2,
  "kernelspec": {
   "name": "python395jvsc74a57bd0df2517d12cbacb86b38afffdc1f50cbbc41755439694c5330a7a1b4f6f24e217",
   "display_name": "Python 3.9.5 64-bit"
  }
 },
 "nbformat": 4,
 "nbformat_minor": 2,
 "cells": [
  {
   "cell_type": "code",
   "execution_count": 8,
   "metadata": {},
   "outputs": [],
   "source": [
    "import pandas as pd\n",
    "from sklearn.model_selection import train_test_split\n",
    "from sklearn.preprocessing import StandardScaler\n",
    "from sklearn.ensemble import RandomForestClassifier\n",
    "from sklearn.svm import SVC\n",
    "from sklearn import svm\n",
    "from sklearn.neural_network import MLPClassifier\n",
    "from sklearn.metrics import confusion_matrix, classification_report, accuracy_score\n",
    "from sklearn.model_selection import RandomizedSearchCV\n",
    "\n",
    "%matplotlib inline\n",
    "\n",
    "import matplotlib.pyplot as plt\n",
    "import seaborn as sns; sns.set(font_scale=1.2)"
   ]
  },
  {
   "cell_type": "code",
   "execution_count": 9,
   "metadata": {},
   "outputs": [],
   "source": [
    "all_csvs = ['log_reg', 'Random_Forests', 'SVC-GridSearch', 'SVC']\n",
    "\n",
    "df = pd.DataFrame()\n",
    "for csv in all_csvs:\n",
    "    new_df = pd.read_csv(\"./{}.csv\".format(csv))\n",
    "    new_df['date']=pd.to_datetime(new_df['date'])\n",
    "    new_df.sort_values(by=['date'])\n",
    "    new_df = new_df.drop(['date', 'player_id', 'gamePk', 'num_shots', 'pred_over', 'pred_under', 'target'], axis=1)\n",
    "    new_df[\"proba_over\"] = new_df[\"proba_over\"] / (new_df[\"proba_over\"] +  new_df[\"proba_under\"])\n",
    "    new_df[\"proba_under\"] = new_df[\"proba_under\"] / (new_df[\"proba_over\"] +  new_df[\"proba_under\"])\n",
    "    new_df[\"pred\"] = (new_df[\"proba_over\"] > new_df[\"proba_under\"]).astype(int)\n",
    "    new_df.columns = [str(col) + '_{}'.format(csv) for col in new_df.columns]\n",
    "    df = pd.concat([df, new_df], axis=1)\n",
    "df.dropna(inplace=True)\n",
    "X = df.drop(['answer_log_reg', 'answer_Random_Forests', 'answer_SVC-GridSearch', 'answer_SVC',\\\n",
    "    'odds_under_log_reg', 'odds_under_Random_Forests', 'odds_under_SVC-GridSearch','odds_under_SVC',\\\n",
    "    'odds_over_log_reg', 'odds_over_Random_Forests', 'odds_over_SVC-GridSearch', 'odds_over_SVC'], axis=1)\n",
    "X[\"odds_over\"] = df['odds_over_SVC']\n",
    "X[\"odds_under\"] = df['odds_under_SVC']\n",
    "y = pd.DataFrame({\"answer\": df['answer_SVC']})"
   ]
  },
  {
   "cell_type": "code",
   "execution_count": null,
   "metadata": {},
   "outputs": [],
   "source": []
  },
  {
   "cell_type": "code",
   "execution_count": 10,
   "metadata": {},
   "outputs": [],
   "source": [
    "#X_train, X_test, y_train, y_test = train_test_split(X, y, test_size = 0.2, random_state = 22)\n",
    "X_train_raw = X[:3500]\n",
    "X_test_raw = X[3500:]\n",
    "y_train_raw = y[:3500]\n",
    "y_test_raw = y[3500:]\n",
    "\n",
    "sc = StandardScaler()\n",
    "X_train = sc.fit_transform(X_train_raw)\n",
    "X_test = sc.transform(X_test_raw)"
   ]
  },
  {
   "source": [
    "SVM Classifier"
   ],
   "cell_type": "markdown",
   "metadata": {}
  },
  {
   "cell_type": "code",
   "execution_count": 11,
   "metadata": {},
   "outputs": [
    {
     "output_type": "stream",
     "name": "stderr",
     "text": [
      "C:\\Users\\rynel\\AppData\\Local\\Programs\\Python\\Python39\\lib\\site-packages\\sklearn\\utils\\validation.py:63: DataConversionWarning: A column-vector y was passed when a 1d array was expected. Please change the shape of y to (n_samples, ), for example using ravel().\n",
      "  return f(*args, **kwargs)\n",
      "              precision    recall  f1-score   support\n",
      "\n",
      "           0       0.57      0.63      0.60       638\n",
      "           1       0.60      0.54      0.57       663\n",
      "\n",
      "    accuracy                           0.58      1301\n",
      "   macro avg       0.58      0.58      0.58      1301\n",
      "weighted avg       0.58      0.58      0.58      1301\n",
      "\n",
      "[[399 239]\n",
      " [304 359]]\n",
      "0.5826287471176018\n"
     ]
    }
   ],
   "source": [
    "clf = svm.SVC(kernel = 'rbf', gamma = 0.001, C = 1, probability=True)\n",
    "\n",
    "clf.fit(X_train, y_train_raw)\n",
    "pred_clf = clf.predict(X_test)\n",
    "save_df = pd.concat([X_test_raw.copy(), y_test_raw.copy()], axis=1)\n",
    "save_df[\"pred_my\"] = pred_clf\n",
    "pred_clf_prob = clf.predict_proba(X_test)\n",
    "save_df[\"pred_under_my\"] = [x[0] for x in pred_clf_prob]\n",
    "save_df[\"pred_over_my\"] = [x[1] for x in pred_clf_prob]\n",
    "\n",
    "\n",
    "for csv in all_csvs + [\"my\"]:\n",
    "    save_df[\"win_{}\".format(csv)] = (save_df[\"pred_{}\".format(csv)] == save_df[\"answer\"]).astype(int)\n",
    "save_df[\"win_odds\"] = ((save_df[\"odds_over\"] <= save_df[\"odds_under\"]) == save_df[\"answer\"]).astype(int)\n",
    "\n",
    "\n",
    "\n",
    "#save_df.to_csv(r'C:\\Users\\rynel\\Desktop\\my.csv', index=False, sep=\";\")\n",
    "\n",
    "print(classification_report(y_test_raw, pred_clf))\n",
    "print(confusion_matrix(y_test_raw, pred_clf))\n",
    "print(accuracy_score(y_test_raw, pred_clf))"
   ]
  },
  {
   "cell_type": "code",
   "execution_count": 12,
   "metadata": {},
   "outputs": [
    {
     "output_type": "stream",
     "name": "stdout",
     "text": [
      "Fitting 5 folds for each of 10 candidates, totalling 50 fits\n",
      "C:\\Users\\rynel\\AppData\\Local\\Programs\\Python\\Python39\\lib\\site-packages\\sklearn\\utils\\validation.py:63: DataConversionWarning: A column-vector y was passed when a 1d array was expected. Please change the shape of y to (n_samples, ), for example using ravel().\n",
      "  return f(*args, **kwargs)\n",
      "{'kernel': 'rbf', 'gamma': 0.01, 'C': 0.1}\n",
      "0.5818601076095311\n"
     ]
    }
   ],
   "source": [
    "param_grid = { 'C': [0.1, 1, 10, 100],\n",
    "                'gamma': [1, 0.1, 0.01, 0.001],\n",
    "                'kernel': ['rbf']}\n",
    "\n",
    "clf2 = svm.SVC(gamma='auto')\n",
    "rf_Grid = RandomizedSearchCV(estimator = clf2, param_distributions = param_grid, cv = 5, verbose=2, n_jobs=5)\n",
    "rf_Grid.fit(X_train,y_train_raw)\n",
    "print(rf_Grid.best_params_)\n",
    "print(rf_Grid.score(X_test,y_test_raw))"
   ]
  },
  {
   "cell_type": "code",
   "execution_count": null,
   "metadata": {},
   "outputs": [],
   "source": []
  }
 ]
}