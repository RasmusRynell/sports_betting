{
 "metadata": {
  "language_info": {
   "codemirror_mode": {
    "name": "ipython",
    "version": 3
   },
   "file_extension": ".py",
   "mimetype": "text/x-python",
   "name": "python",
   "nbconvert_exporter": "python",
   "pygments_lexer": "ipython3",
   "version": "3.9.5"
  },
  "orig_nbformat": 2,
  "kernelspec": {
   "name": "python3",
   "display_name": "Python 3.9.5 64-bit"
  },
  "interpreter": {
   "hash": "df2517d12cbacb86b38afffdc1f50cbbc41755439694c5330a7a1b4f6f24e217"
  }
 },
 "nbformat": 4,
 "nbformat_minor": 2,
 "cells": [
  {
   "cell_type": "code",
   "execution_count": 189,
   "metadata": {},
   "outputs": [],
   "source": [
    "import pandas as pd\n",
    "from sklearn.model_selection import train_test_split\n",
    "from sklearn.preprocessing import StandardScaler\n",
    "from sklearn.ensemble import RandomForestClassifier\n",
    "from sklearn.svm import SVC\n",
    "from sklearn import svm\n",
    "from sklearn.neural_network import MLPClassifier\n",
    "from sklearn.metrics import confusion_matrix, classification_report, accuracy_score\n",
    "from sklearn.model_selection import GridSearchCV\n",
    "import numpy as np\n",
    "\n",
    "%matplotlib inline\n",
    "\n",
    "import matplotlib.pyplot as plt\n",
    "import seaborn as sns; sns.set(font_scale=1.2)"
   ]
  },
  {
   "cell_type": "code",
   "execution_count": null,
   "metadata": {},
   "outputs": [],
   "source": []
  },
  {
   "cell_type": "code",
   "execution_count": 190,
   "metadata": {
    "tags": []
   },
   "outputs": [],
   "source": [
    "all_csvs = ['log_reg', 'Random_Forests', 'SVC-GridSearch', 'SVC']\n",
    "\n",
    "df = pd.DataFrame(index=['uniqueId'])\n",
    "for csv in all_csvs:\n",
    "    new_df = pd.read_csv(\"./{}.csv\".format(csv))\n",
    "    new_df['date'] = pd.to_datetime(new_df['date'])\n",
    "    new_df['uniqueId'] = new_df['date'].astype(str) + \"-\" + new_df['player_id'].astype(str) + \"-\" + new_df['gamePk'].astype(str) + \"-\" + new_df['target'].astype(str)\n",
    "    new_df.sort_values(by=['uniqueId'], inplace=True)\n",
    "    new_df.columns = [str(col) + '_{}'.format(csv) if str(col) not in \\\n",
    "        ['uniqueId', 'player_id', 'gamePk', 'date', 'odds_under', 'odds_over', 'num_shots', 'answer', 'target'] else str(col) for col in new_df.columns]\n",
    "    new_df.set_index('uniqueId', inplace=True)\n",
    "    df = pd.concat([df, new_df], axis=1)\n",
    "df.dropna(inplace=True)\n",
    "df = df.loc[:,~df.columns.duplicated()]\n",
    "df['player_id'] = df['player_id'].astype(int)\n",
    "df['gamePk'] = df['gamePk'].astype(int)\n",
    "df['num_shots'] = df['num_shots'].astype(int)\n",
    "df['answer'] = df['answer'].astype(int)\n",
    "\n",
    "X = df.drop(['answer', 'odds_under', 'odds_over', 'num_shots', 'player_id', 'gamePk', 'date'], axis=1)\n",
    "y = pd.DataFrame({\"answer\": df['answer']})"
   ]
  },
  {
   "cell_type": "code",
   "execution_count": 191,
   "metadata": {},
   "outputs": [],
   "source": [
    "#X_train, X_test, y_train, y_test = train_test_split(X, y, test_size = 0.2, random_state = 22)\n",
    "X_train = X[:3500]\n",
    "X_test = X[3500:]\n",
    "y_train = y[:3500]\n",
    "y_test = y[3500:]\n",
    "\n",
    "sc = StandardScaler()\n",
    "X_train = sc.fit_transform(X_train)\n",
    "X_test = sc.transform(X_test)"
   ]
  },
  {
   "source": [
    "SVM Classifier"
   ],
   "cell_type": "markdown",
   "metadata": {}
  },
  {
   "cell_type": "code",
   "execution_count": 199,
   "metadata": {},
   "outputs": [
    {
     "output_type": "stream",
     "name": "stdout",
     "text": [
      "              precision    recall  f1-score   support\n\n           0       0.58      0.62      0.60       645\n           1       0.60      0.55      0.57       656\n\n    accuracy                           0.59      1301\n   macro avg       0.59      0.59      0.59      1301\nweighted avg       0.59      0.59      0.59      1301\n\n[[402 243]\n [296 360]]\n0.5857033051498847\n"
     ]
    }
   ],
   "source": [
    "clf = svm.SVC(C=1, gamma=0.001, probability=True) # Optimized\n",
    "#clf = svm.SVC(C=0.525, gamma=0.0525, probability=True) # Generalized\n",
    "\n",
    "clf.fit(X_train, y_train.values.ravel())\n",
    "pred_clf = clf.predict(X_test)\n",
    "\n",
    "save_df = pd.DataFrame(df[3500:])\n",
    "save_df[\"pred_my\"] = pred_clf\n",
    "pred_clf_prob = clf.predict_proba(X_test)\n",
    "save_df[\"pred_under_my\"] = [x[0] for x in pred_clf_prob]\n",
    "save_df[\"pred_over_my\"] = [x[1] for x in pred_clf_prob]\n",
    "\n",
    "\n",
    "save_df.to_csv('.\\my_optimized.csv', index=False, sep=\";\")\n",
    "\n",
    "print(classification_report(y_test, pred_clf))\n",
    "print(confusion_matrix(y_test, pred_clf))\n",
    "print(accuracy_score(y_test, pred_clf))"
   ]
  },
  {
   "cell_type": "code",
   "execution_count": 193,
   "metadata": {
    "tags": []
   },
   "outputs": [
    {
     "output_type": "stream",
     "name": "stdout",
     "text": [
      "Fitting 5 folds for each of 9 candidates, totalling 45 fits\n",
      "{'C': 0.525, 'gamma': 0.0525}\n",
      "0.5734050730207533\n"
     ]
    }
   ],
   "source": [
    "param_grid = { 'C': [0.575,0.55,0.525],\n",
    "               'gamma': [0.0555,0.055,0.0525]}\n",
    "\n",
    "clf2 = svm.SVC()\n",
    "rf_Grid = GridSearchCV(clf2, param_grid, n_jobs=7, scoring='accuracy',verbose=2)\n",
    "rf_Grid.fit(X_train,y_train.values.ravel())\n",
    "pred_clf2 = rf_Grid.predict(X_test)\n",
    "\n",
    "print(rf_Grid.best_params_)\n",
    "print(rf_Grid.score(X_test,y_test))"
   ]
  },
  {
   "cell_type": "code",
   "execution_count": null,
   "metadata": {},
   "outputs": [],
   "source": []
  }
 ]
}